{
 "cells": [
  {
   "cell_type": "code",
   "execution_count": 5,
   "metadata": {},
   "outputs": [],
   "source": [
    "import cloudpickle\n",
    "import collections\n",
    "import numpy as np"
   ]
  },
  {
   "cell_type": "code",
   "execution_count": 17,
   "metadata": {},
   "outputs": [],
   "source": [
    "dataset_path = 'dataset.pkl'\n",
    "\n",
    "with open(dataset_path, 'rb') as f:\n",
    "    trajectories = cloudpickle.load(f)\n",
    "\n",
    "paths = []"
   ]
  },
  {
   "cell_type": "code",
   "execution_count": 16,
   "metadata": {},
   "outputs": [],
   "source": [
    "data_path = 'chain.pkl'\n",
    "with open(data_path, 'rb') as f:\n",
    "    trac = cloudpickle.load(f)\n"
   ]
  },
  {
   "cell_type": "code",
   "execution_count": 21,
   "metadata": {},
   "outputs": [],
   "source": [
    "len(trajectories)\n",
    "paths = trac"
   ]
  },
  {
   "cell_type": "code",
   "execution_count": 22,
   "metadata": {},
   "outputs": [],
   "source": [
    "len(trajectories[0][0])\n",
    "\n",
    "roll = 0\n",
    "agent = 0 #.. 24\n",
    "traj = 0 #.. 25600\n",
    "#key = [obs, action, reward, done, a_probs]\n",
    "key = [0, 1, 2, 3, 4]\n",
    "obs = [0, 1]\n",
    "\n",
    "\n",
    "trajectories[roll][agent][traj][key[0]][obs[0]].shape\n",
    "\n",
    "\n",
    "data_ = collections.defaultdict(list)\n",
    "\n",
    "for agent in trajectories[0]:\n",
    "    data_ = collections.defaultdict(list)\n",
    "    for exp in agent:\n",
    "        vis_obs = exp[0][0]\n",
    "        vec_obs = exp[0][1]\n",
    "        vis_obs = vis_obs.reshape(-1)\n",
    "        data_['observations'].append(np.concatenate([vis_obs, vec_obs]))\n",
    "        data_['actions'].append(exp[1])\n",
    "        data_['rewards'].append(exp[2])\n",
    "        data_['terminals'].append(exp[3])\n",
    "        if exp[3]:\n",
    "            for k in data_:\n",
    "                data_[k] = np.array(data_[k])\n",
    "            paths.append(data_)\n",
    "            data_ = collections.defaultdict(list)\n",
    "    # if not exp[3]:\n",
    "    #     data_['terminals'][-1] = True\n",
    "    #     for k in data_:\n",
    "    #         data_[k] = np.array(data_[k])\n",
    "    #     paths.append(data_)\n",
    "    #     data_ = collections.defaultdict(list)\n",
    "\n"
   ]
  },
  {
   "cell_type": "code",
   "execution_count": 28,
   "metadata": {},
   "outputs": [
    {
     "data": {
      "text/plain": [
       "288"
      ]
     },
     "execution_count": 28,
     "metadata": {},
     "output_type": "execute_result"
    }
   ],
   "source": [
    "len(data_['observations'])\n",
    "len(paths)"
   ]
  },
  {
   "cell_type": "code",
   "execution_count": 26,
   "metadata": {},
   "outputs": [],
   "source": [
    "returns = np.array([np.sum(p['rewards']) for p in paths])\n",
    "num_samples = np.sum([p['rewards'].shape[0] for p in paths])"
   ]
  },
  {
   "cell_type": "code",
   "execution_count": 27,
   "metadata": {},
   "outputs": [
    {
     "name": "stdout",
     "output_type": "stream",
     "text": [
      "Number of samples collected: 576240\n",
      "Trajectory returns: mean = 312.9513888888889, std = 40.1382731354154, max = 440.0, min = 180.0\n"
     ]
    }
   ],
   "source": [
    "print(f'Number of samples collected: {num_samples}')\n",
    "print(f'Trajectory returns: mean = {np.mean(returns)}, std = {np.std(returns)}, max = {np.max(returns)}, min = {np.min(returns)}')"
   ]
  },
  {
   "cell_type": "code",
   "execution_count": 25,
   "metadata": {},
   "outputs": [],
   "source": [
    "import pickle\n",
    "\n",
    "with open('chain.pkl', 'wb') as f:\n",
    "    pickle.dump(paths, f)"
   ]
  },
  {
   "cell_type": "code",
   "execution_count": 12,
   "metadata": {},
   "outputs": [
    {
     "data": {
      "text/plain": [
       "6.0"
      ]
     },
     "execution_count": 12,
     "metadata": {},
     "output_type": "execute_result"
    }
   ],
   "source": [
    "np.max(paths[0]['actions'])"
   ]
  },
  {
   "cell_type": "code",
   "execution_count": 11,
   "metadata": {},
   "outputs": [
    {
     "name": "stdout",
     "output_type": "stream",
     "text": [
      "observations\n",
      "actions\n",
      "rewards\n",
      "terminals\n"
     ]
    }
   ],
   "source": [
    "for k in data_:\n",
    "    print(k)"
   ]
  },
  {
   "cell_type": "code",
   "execution_count": 35,
   "metadata": {},
   "outputs": [],
   "source": [
    "import seaborn as sns\n",
    "import matplotlib.pyplot as plt\n",
    "\n"
   ]
  },
  {
   "cell_type": "code",
   "execution_count": 53,
   "metadata": {},
   "outputs": [
    {
     "name": "stderr",
     "output_type": "stream",
     "text": [
      "/tmp/ipykernel_6669/1566953234.py:2: UserWarning: \n",
      "\n",
      "`distplot` is a deprecated function and will be removed in seaborn v0.14.0.\n",
      "\n",
      "Please adapt your code to use either `displot` (a figure-level function with\n",
      "similar flexibility) or `histplot` (an axes-level function for histograms).\n",
      "\n",
      "For a guide to updating your code to use the new functions, please see\n",
      "https://gist.github.com/mwaskom/de44147ed2974457ad6372750bbe5751\n",
      "\n",
      "  sns.distplot(returns, )\n"
     ]
    },
    {
     "data": {
      "text/plain": [
       "<Axes: ylabel='Density'>"
      ]
     },
     "execution_count": 53,
     "metadata": {},
     "output_type": "execute_result"
    },
    {
     "data": {
      "image/png": "[encoded data removed]",
      "text/plain": [
       "<Figure size 640x480 with 1 Axes>"
      ]
     },
     "metadata": {},
     "output_type": "display_data"
    }
   ],
   "source": [
    "#show the distribution of returns with exact numbers on the top\n",
    "sns.distplot(returns,)"
   ]
  },
  {
   "cell_type": "code",
   "execution_count": 47,
   "metadata": {},
   "outputs": [
    {
     "data": {
      "text/plain": [
       "<BarContainer object of 24 artists>"
      ]
     },
     "execution_count": 47,
     "metadata": {},
     "output_type": "execute_result"
    },
    {
     "data": {
      "image/png": "[encoded data removed]",
      "text/plain": [
       "<Figure size 640x480 with 1 Axes>"
      ]
     },
     "metadata": {},
     "output_type": "display_data"
    }
   ],
   "source": [
    "cc = collections.Counter(returns)\n",
    "plt.bar(cc.keys(), cc.values())"
   ]
  },
  {
   "cell_type": "code",
   "execution_count": 48,
   "metadata": {},
   "outputs": [
    {
     "data": {
      "text/plain": [
       "Counter({310.0: 29,\n",
       "         260.0: 8,\n",
       "         270.0: 14,\n",
       "         320.0: 33,\n",
       "         300.0: 36,\n",
       "         290.0: 26,\n",
       "         330.0: 31,\n",
       "         280.0: 22,\n",
       "         240.0: 7,\n",
       "         340.0: 19,\n",
       "         250.0: 4,\n",
       "         350.0: 20,\n",
       "         390.0: 7,\n",
       "         360.0: 9,\n",
       "         380.0: 4,\n",
       "         410.0: 4,\n",
       "         420.0: 2,\n",
       "         400.0: 4,\n",
       "         440.0: 1,\n",
       "         230.0: 2,\n",
       "         210.0: 1,\n",
       "         220.0: 2,\n",
       "         180.0: 2,\n",
       "         370.0: 1})"
      ]
     },
     "execution_count": 48,
     "metadata": {},
     "output_type": "execute_result"
    }
   ],
   "source": [
    "cc"
   ]
  },
  {
   "cell_type": "code",
   "execution_count": null,
   "metadata": {},
   "outputs": [],
   "source": []
  }
 ],
 "metadata": {
  "kernelspec": {
   "display_name": "mla-R19",
   "language": "python",
   "name": "python3"
  },
  "language_info": {
   "codemirror_mode": {
    "name": "ipython",
    "version": 3
   },
   "file_extension": ".py",
   "mimetype": "text/x-python",
   "name": "python",
   "nbconvert_exporter": "python",
   "pygments_lexer": "ipython3",
   "version": "3.9.13"
  },
  "orig_nbformat": 4,
  "vscode": {
   "interpreter": {
    "hash": "b9a198ff267047401ece889d56859c7118264f0402979106afb7b4b3a3a6003a"
   }
  }
 },
 "nbformat": 4,
 "nbformat_minor": 2
}
